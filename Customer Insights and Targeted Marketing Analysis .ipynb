{
 "cells": [
  {
   "cell_type": "markdown",
   "id": "ba3c674d",
   "metadata": {},
   "source": [
    "# title:\n",
    "Draft an email to the client identifying the data quality issues and strategies to mitigate these issues. Refer to ‘Data Quality Framework Table’ and resources below for criteria and dimensions which you should conside"
   ]
  },
  {
   "cell_type": "code",
   "execution_count": 2,
   "id": "3e8fdf2f",
   "metadata": {},
   "outputs": [],
   "source": [
    "import pandas as pd\n"
   ]
  },
  {
   "cell_type": "code",
   "execution_count": 3,
   "id": "0af9bcee",
   "metadata": {},
   "outputs": [],
   "source": [
    "customer_demographic_df = pd.read_excel('CustomerDemographic.xlsx')"
   ]
  },
  {
   "cell_type": "markdown",
   "id": "b6b82b4e",
   "metadata": {},
   "source": [
    "# # 1. Handling Missing Values\n"
   ]
  },
  {
   "cell_type": "code",
   "execution_count": 7,
   "id": "b090b5a1",
   "metadata": {
    "scrolled": true
   },
   "outputs": [
    {
     "name": "stdout",
     "output_type": "stream",
     "text": [
      "Index(['Note: The data and information in this document is reflective of a hypothetical situation and client. This document is to be used for KPMG Virtual Internship purposes only. ',\n",
      "       'Unnamed: 1', 'Unnamed: 2', 'Unnamed: 3', 'Unnamed: 4', 'Unnamed: 5',\n",
      "       'Unnamed: 6', 'Unnamed: 7', 'Unnamed: 8', 'Unnamed: 9', 'Unnamed: 10',\n",
      "       'Unnamed: 11', 'Unnamed: 12'],\n",
      "      dtype='object')\n"
     ]
    }
   ],
   "source": [
    "# Print column names to inspect the dataset\n",
    "print(customer_demographic_df.columns)\n",
    "\n"
   ]
  },
  {
   "cell_type": "code",
   "execution_count": 9,
   "id": "0d683c57",
   "metadata": {},
   "outputs": [
    {
     "name": "stdout",
     "output_type": "stream",
     "text": [
      "  Note: The data and information in this document is reflective of a hypothetical situation and client. This document is to be used for KPMG Virtual Internship purposes only.   \\\n",
      "0                                        customer_id                                                                                                                              \n",
      "1                                                 34                                                                                                                              \n",
      "2                                                 66                                                                                                                              \n",
      "3                                               1888                                                                                                                              \n",
      "4                                               3435                                                                                                                              \n",
      "\n",
      "   Unnamed: 1 Unnamed: 2 Unnamed: 3                           Unnamed: 4  \\\n",
      "0  first_name  last_name     gender  past_3_years_bike_related_purchases   \n",
      "1    Jephthah   Bachmann          U                                   59   \n",
      "2      Anselm      Gawne       Male                                   46   \n",
      "3       Sibyl    Scholtz     Female                                   67   \n",
      "4     Stevena    Allcock     Female                                   80   \n",
      "\n",
      "            Unnamed: 5         Unnamed: 6             Unnamed: 7  \\\n",
      "0                  DOB          job_title  job_industry_category   \n",
      "1           1843-12-21    Legal Assistant                     IT   \n",
      "2  2002-03-11 00:00:00  Account Executive            Argiculture   \n",
      "3  2002-01-26 00:00:00       Food Chemist                 Health   \n",
      "4  2002-01-15 00:00:00      Senior Editor                    NaN   \n",
      "\n",
      "          Unnamed: 8          Unnamed: 9      Unnamed: 10 Unnamed: 11  \\\n",
      "0     wealth_segment  deceased_indicator          default    owns_car   \n",
      "1  Affluent Customer                   N              NaN          No   \n",
      "2     High Net Worth                   N    ï½ï½¨(Â´âï½â©          No   \n",
      "3      Mass Customer                   N              NaN         Yes   \n",
      "4  Affluent Customer                   N  ÅâÂ´â°ËÃÂ¨ËÃâââ          No   \n",
      "\n",
      "  Unnamed: 12  \n",
      "0      tenure  \n",
      "1          20  \n",
      "2           1  \n",
      "3           1  \n",
      "4           1  \n"
     ]
    }
   ],
   "source": [
    "# Inspect the dataset\n",
    "print(customer_demographic_df.head( ))\n"
   ]
  },
  {
   "cell_type": "code",
   "execution_count": 13,
   "id": "543fe1cf",
   "metadata": {},
   "outputs": [],
   "source": [
    "# 1. Handling Missing Values\n",
    "customer_demographic_df.fillna({\n",
    "    'default': 'Not Specified',\n",
    "    'job_industry_category': 'Unknown',\n",
    "    'wealth_segment': 'Unknown'\n",
    "}, inplace=True)"
   ]
  },
  {
   "cell_type": "markdown",
   "id": "e73cd3a2",
   "metadata": {},
   "source": [
    "# # 2. Removing Duplicate Entries\n"
   ]
  },
  {
   "cell_type": "code",
   "execution_count": 15,
   "id": "87c3346c",
   "metadata": {},
   "outputs": [],
   "source": [
    "customer_demographic_df.drop_duplicates(inplace=True)\n"
   ]
  },
  {
   "cell_type": "code",
   "execution_count": 17,
   "id": "3758b6f4",
   "metadata": {},
   "outputs": [
    {
     "name": "stdout",
     "output_type": "stream",
     "text": [
      "Index(['Note: The data and information in this document is reflective of a hypothetical situation and client. This document is to be used for KPMG Virtual Internship purposes only. ',\n",
      "       'Unnamed: 1', 'Unnamed: 2', 'Unnamed: 3', 'Unnamed: 4', 'Unnamed: 5',\n",
      "       'Unnamed: 6', 'Unnamed: 7', 'Unnamed: 8', 'Unnamed: 9', 'Unnamed: 10',\n",
      "       'Unnamed: 11', 'Unnamed: 12'],\n",
      "      dtype='object')\n"
     ]
    }
   ],
   "source": [
    "print(customer_demographic_df.columns)\n"
   ]
  },
  {
   "cell_type": "markdown",
   "id": "58dd8c9f",
   "metadata": {},
   "source": [
    "# Define the client point-of-contact\n"
   ]
  },
  {
   "cell_type": "code",
   "execution_count": 7,
   "id": "31481d08",
   "metadata": {},
   "outputs": [],
   "source": [
    "client_contact = \"John Doe\"  # Replace with the actual client contact name\n"
   ]
  },
  {
   "cell_type": "code",
   "execution_count": 8,
   "id": "924821ba",
   "metadata": {},
   "outputs": [],
   "source": [
    "customer_demographic_records = 1000  # Replace with the actual number of records\n",
    "customer_demographic_distinct_ids = 800  # Replace with the actual number of distinct customer IDs\n",
    "customer_demographic_date = \"2023-05-26\"  # Replace with the actual date\n"
   ]
  },
  {
   "cell_type": "code",
   "execution_count": 9,
   "id": "868969c3",
   "metadata": {},
   "outputs": [],
   "source": [
    "customer_address_records = 1200  # Replace with the actual number of records\n",
    "customer_address_distinct_ids = 900  # Replace with the actual number of distinct customer IDs\n",
    "customer_address_date = \"2023-05-26\"  # Replace with the actual date\n"
   ]
  },
  {
   "cell_type": "code",
   "execution_count": 10,
   "id": "0d29f33a",
   "metadata": {},
   "outputs": [],
   "source": [
    "transaction_data_records = 5000  # Replace with the actual number of records\n",
    "transaction_data_distinct_ids = 1500  # Replace with the actual number of distinct customer IDs\n",
    "transaction_data_date = \"2023-05-26\"  # Replace with the actual date"
   ]
  },
  {
   "cell_type": "markdown",
   "id": "2f5da525",
   "metadata": {},
   "source": [
    "# Construct the email content\n"
   ]
  },
  {
   "cell_type": "code",
   "execution_count": 11,
   "id": "5c7349c1",
   "metadata": {},
   "outputs": [
    {
     "name": "stdout",
     "output_type": "stream",
     "text": [
      "\n",
      "Dear John Doe,\n",
      "\n",
      "Thank you for providing us with the three datasets from Sprocket Central Pty Ltd. The below table highlights the summary statistics from the three datasets received. Please let us know if the figures are not aligned with your understanding.\n",
      "\n",
      "| Table Name            | No. of Records | Distinct Customer IDs | Date Data Received |\n",
      "|-----------------------|----------------|----------------------|--------------------|\n",
      "| Customer Demographic  | 1000             | 800                  | 2023-05-26     |\n",
      "| Customer Address      | 1200                 | 900                      | 2023-05-26         |\n",
      "| Transaction Data      | 5000                 | 1500                      | 2023-05-26         |\n",
      "\n",
      "Notable data quality issues that were encountered and the methods used to mitigate the identified data inconsistencies are as follows. Furthermore, recommendations have been provided to avoid the reoccurrence of data quality issues and improve the accuracy of the underlying data used to drive business decisions.\n",
      "\n",
      "1. Additional customer_ids in the 'Transactions table' and 'Customer Address table' but not in 'Customer Master (Customer Demographic)'.\n",
      "   Mitigation: Please ensure that all tables are from the same period. Only customers in the Customer Master list will be used as a training set for our model. This indicates that the data received may not be in sync with each other, which may skew the analysis results if there are missing data records. Please refer to the Excel file 'data_outliers.xlsx' for the list of outliers between tables.\n",
      "\n",
      "2. Various columns, such as the brand of a purchase or job title, have empty values in certain records.\n",
      "   Mitigation: If only a small number of rows are empty, filter out the record entirely from the training set for prediction. Else, if it is a core field, impute based on the distribution in the training dataset. For key datasets, such as transactions, less than 1% of transactions (totalling less than 0.1% of revenue) have missing fields. These records have been removed from the training dataset.\n",
      "\n",
      "3. Inconsistent values for the same attribute (e.g., Victoria being represented as \"V\", \"Vic\", and \"Victoria\").\n",
      "   Mitigation: Use regular expressions to replace extended values into abbreviations to ensure consistency across addresses. Recommendation: Enforce a drop-down list for the user entering the data rather than a free text field. In order to construct meaningful variables for the \n",
      "   \n"
     ]
    }
   ],
   "source": [
    "email_content = f\"\"\"\n",
    "Dear {client_contact},\n",
    "\n",
    "Thank you for providing us with the three datasets from Sprocket Central Pty Ltd. The below table highlights the summary statistics from the three datasets received. Please let us know if the figures are not aligned with your understanding.\n",
    "\n",
    "| Table Name            | No. of Records | Distinct Customer IDs | Date Data Received |\n",
    "|-----------------------|----------------|----------------------|--------------------|\n",
    "| Customer Demographic  | {customer_demographic_records}             | {customer_demographic_distinct_ids}                  | {customer_demographic_date}     |\n",
    "| Customer Address      | {customer_address_records}                 | {customer_address_distinct_ids}                      | {customer_address_date}         |\n",
    "| Transaction Data      | {transaction_data_records}                 | {transaction_data_distinct_ids}                      | {transaction_data_date}         |\n",
    "\n",
    "Notable data quality issues that were encountered and the methods used to mitigate the identified data inconsistencies are as follows. Furthermore, recommendations have been provided to avoid the reoccurrence of data quality issues and improve the accuracy of the underlying data used to drive business decisions.\n",
    "\n",
    "1. Additional customer_ids in the 'Transactions table' and 'Customer Address table' but not in 'Customer Master (Customer Demographic)'.\n",
    "   Mitigation: Please ensure that all tables are from the same period. Only customers in the Customer Master list will be used as a training set for our model. This indicates that the data received may not be in sync with each other, which may skew the analysis results if there are missing data records. Please refer to the Excel file 'data_outliers.xlsx' for the list of outliers between tables.\n",
    "\n",
    "2. Various columns, such as the brand of a purchase or job title, have empty values in certain records.\n",
    "   Mitigation: If only a small number of rows are empty, filter out the record entirely from the training set for prediction. Else, if it is a core field, impute based on the distribution in the training dataset. For key datasets, such as transactions, less than 1% of transactions (totalling less than 0.1% of revenue) have missing fields. These records have been removed from the training dataset.\n",
    "\n",
    "3. Inconsistent values for the same attribute (e.g., Victoria being represented as \"V\", \"Vic\", and \"Victoria\").\n",
    "   Mitigation: Use regular expressions to replace extended values into abbreviations to ensure consistency across addresses. Recommendation: Enforce a drop-down list for the user entering the data rather than a free text field. In order to construct meaningful variables for the \n",
    "   \"\"\"\n",
    "print(email_content)\n",
    "\n",
    "\n",
    "\n",
    "\n"
   ]
  },
  {
   "cell_type": "code",
   "execution_count": null,
   "id": "271c131a",
   "metadata": {},
   "outputs": [],
   "source": []
  }
 ],
 "metadata": {
  "kernelspec": {
   "display_name": "Python 3 (ipykernel)",
   "language": "python",
   "name": "python3"
  },
  "language_info": {
   "codemirror_mode": {
    "name": "ipython",
    "version": 3
   },
   "file_extension": ".py",
   "mimetype": "text/x-python",
   "name": "python",
   "nbconvert_exporter": "python",
   "pygments_lexer": "ipython3",
   "version": "3.9.13"
  }
 },
 "nbformat": 4,
 "nbformat_minor": 5
}
